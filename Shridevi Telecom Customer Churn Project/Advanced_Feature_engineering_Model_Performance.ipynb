{
 "cells": [
  {
   "cell_type": "code",
   "execution_count": 2,
   "id": "2fd46a68",
   "metadata": {},
   "outputs": [],
   "source": [
    "import pandas as pd\n",
    "import numpy as np\n",
    "from sklearn.model_selection import train_test_split\n",
    "from sklearn.preprocessing import StandardScaler, LabelEncoder, OneHotEncoder, KBinsDiscretizer, PolynomialFeatures\n",
    "from sklearn.compose import ColumnTransformer\n",
    "from sklearn.pipeline import Pipeline\n",
    "from sklearn.ensemble import RandomForestClassifier\n",
    "from sklearn.tree import DecisionTreeClassifier\n",
    "from sklearn.linear_model import LogisticRegression\n",
    "from sklearn.svm import SVC\n",
    "from sklearn.metrics import precision_score, recall_score, f1_score, roc_auc_score, classification_report"
   ]
  },
  {
   "cell_type": "code",
   "execution_count": 3,
   "id": "7aabdc67",
   "metadata": {},
   "outputs": [],
   "source": [
    "# Load the data\n",
    "data = pd.read_csv(\"cell2celltrain.csv\")"
   ]
  },
  {
   "cell_type": "code",
   "execution_count": 4,
   "id": "46057519",
   "metadata": {},
   "outputs": [],
   "source": [
    "# Assuming 'Churn' is labeled as 'Churn' and contains 'Yes'/'No' values\n",
    "if 'Churn' in data.columns:\n",
    "    data['Churn'] = data['Churn'].map({'Yes': 1, 'No': 0})\n",
    "else:\n",
    "    raise ValueError(\"Churn column not found in the dataset\")"
   ]
  },
  {
   "cell_type": "code",
   "execution_count": 5,
   "id": "8bf62342",
   "metadata": {},
   "outputs": [
    {
     "name": "stderr",
     "output_type": "stream",
     "text": [
      "C:\\Users\\user\\AppData\\Local\\Temp\\ipykernel_9568\\1186763764.py:3: FutureWarning: The default value of numeric_only in DataFrame.mean is deprecated. In a future version, it will default to False. In addition, specifying 'numeric_only=None' is deprecated. Select only valid columns or specify the value of numeric_only to silence this warning.\n",
      "  data.fillna(data.mean(), inplace=True)\n"
     ]
    }
   ],
   "source": [
    "# Data Preprocessing\n",
    "# Handle missing values\n",
    "data.fillna(data.mean(), inplace=True)"
   ]
  },
  {
   "cell_type": "code",
   "execution_count": 6,
   "id": "ebddf451",
   "metadata": {},
   "outputs": [],
   "source": [
    "# Encoding categorical variables, avoiding the already binary 'Churn' column\n",
    "categorical_features = data.select_dtypes(include=['object']).columns.difference(['Churn'])\n",
    "data = pd.get_dummies(data, columns=categorical_features, drop_first=True)"
   ]
  },
  {
   "cell_type": "code",
   "execution_count": 7,
   "id": "6983344c",
   "metadata": {},
   "outputs": [],
   "source": [
    "# Feature Engineering\n",
    "# Polynomial Features\n",
    "poly = PolynomialFeatures(degree=2, interaction_only=True, include_bias=False)\n",
    "numerical_features = data.select_dtypes(include=['int64', 'float64']).columns.tolist()\n",
    "data_poly = poly.fit_transform(data[numerical_features])\n",
    "data_poly = pd.DataFrame(data_poly, columns=poly.get_feature_names_out(numerical_features))\n",
    "data_poly.columns = data_poly.columns.astype(str)  # Convert all column names to string"
   ]
  },
  {
   "cell_type": "code",
   "execution_count": 8,
   "id": "e2b2eb6d",
   "metadata": {},
   "outputs": [],
   "source": [
    "# Binning Numerical Data\n",
    "binning = KBinsDiscretizer(n_bins=5, encode='onehot-dense', strategy='uniform')\n",
    "data_binned = binning.fit_transform(data[numerical_features])\n",
    "data_binned = pd.DataFrame(data_binned, columns=[f'bin_{i}' for i in range(data_binned.shape[1])])"
   ]
  },
  {
   "cell_type": "code",
   "execution_count": 9,
   "id": "c2288528",
   "metadata": {},
   "outputs": [],
   "source": [
    "# Combine original data with new features (remove original numerical features before adding)\n",
    "data = data.drop(columns=numerical_features)\n",
    "data = pd.concat([data, data_poly, data_binned], axis=1)\n",
    "data.columns = data.columns.astype(str)  # Ensure all column names are strings"
   ]
  },
  {
   "cell_type": "code",
   "execution_count": 10,
   "id": "b995ceff",
   "metadata": {},
   "outputs": [],
   "source": [
    "# Splitting data into features and target\n",
    "X = data.drop('Churn', axis=1)\n",
    "y = data['Churn'].astype(int)  # Ensure the target is integer"
   ]
  },
  {
   "cell_type": "code",
   "execution_count": 11,
   "id": "b47ea730",
   "metadata": {},
   "outputs": [],
   "source": [
    "# Splitting the dataset into training and testing sets\n",
    "X_train, X_test, y_train, y_test = train_test_split(X, y, test_size=0.2, random_state=42)"
   ]
  },
  {
   "cell_type": "code",
   "execution_count": 12,
   "id": "1f0bec09",
   "metadata": {},
   "outputs": [],
   "source": [
    "# Feature Scaling\n",
    "scaler = StandardScaler()\n",
    "X_train = scaler.fit_transform(X_train)\n",
    "X_test = scaler.transform(X_test)"
   ]
  },
  {
   "cell_type": "code",
   "execution_count": 13,
   "id": "3bed9b75",
   "metadata": {},
   "outputs": [],
   "source": [
    "from sklearn.datasets import load_iris\n",
    "from sklearn.ensemble import RandomForestClassifier, GradientBoostingClassifier\n",
    "from xgboost import XGBClassifier"
   ]
  },
  {
   "cell_type": "code",
   "execution_count": 14,
   "id": "1f36da91",
   "metadata": {},
   "outputs": [],
   "source": [
    "models = {\n",
    "    'Decision Tree': DecisionTreeClassifier(),\n",
    "    'Random Forest': RandomForestClassifier(),\n",
    "    'Logistic Regression': LogisticRegression(),\n",
    "    'Gradient Boosting': GradientBoostingClassifier(random_state=42),\n",
    "    'XGBoost': XGBClassifier(random_state=42)\n",
    "}"
   ]
  },
  {
   "cell_type": "code",
   "execution_count": 15,
   "id": "c40eb4b0",
   "metadata": {},
   "outputs": [
    {
     "name": "stdout",
     "output_type": "stream",
     "text": [
      "Results for Decision Tree:\n",
      "Precision: 1.0\n",
      "Recall: 1.0\n",
      "F1-Score: 1.0\n",
      "ROC-AUC: 1.0\n",
      "Classification Report:\n",
      "               precision    recall  f1-score   support\n",
      "\n",
      "           0       1.00      1.00      1.00      7308\n",
      "           1       1.00      1.00      1.00      2902\n",
      "\n",
      "    accuracy                           1.00     10210\n",
      "   macro avg       1.00      1.00      1.00     10210\n",
      "weighted avg       1.00      1.00      1.00     10210\n",
      "\n",
      "--------------------------------------------------\n",
      "Results for Random Forest:\n",
      "Precision: 1.0\n",
      "Recall: 1.0\n",
      "F1-Score: 1.0\n",
      "ROC-AUC: 1.0\n",
      "Classification Report:\n",
      "               precision    recall  f1-score   support\n",
      "\n",
      "           0       1.00      1.00      1.00      7308\n",
      "           1       1.00      1.00      1.00      2902\n",
      "\n",
      "    accuracy                           1.00     10210\n",
      "   macro avg       1.00      1.00      1.00     10210\n",
      "weighted avg       1.00      1.00      1.00     10210\n",
      "\n",
      "--------------------------------------------------\n",
      "Results for Logistic Regression:\n",
      "Precision: 1.0\n",
      "Recall: 1.0\n",
      "F1-Score: 1.0\n",
      "ROC-AUC: 1.0\n",
      "Classification Report:\n",
      "               precision    recall  f1-score   support\n",
      "\n",
      "           0       1.00      1.00      1.00      7308\n",
      "           1       1.00      1.00      1.00      2902\n",
      "\n",
      "    accuracy                           1.00     10210\n",
      "   macro avg       1.00      1.00      1.00     10210\n",
      "weighted avg       1.00      1.00      1.00     10210\n",
      "\n",
      "--------------------------------------------------\n",
      "Results for Gradient Boosting:\n",
      "Precision: 1.0\n",
      "Recall: 1.0\n",
      "F1-Score: 1.0\n",
      "ROC-AUC: 1.0\n",
      "Classification Report:\n",
      "               precision    recall  f1-score   support\n",
      "\n",
      "           0       1.00      1.00      1.00      7308\n",
      "           1       1.00      1.00      1.00      2902\n",
      "\n",
      "    accuracy                           1.00     10210\n",
      "   macro avg       1.00      1.00      1.00     10210\n",
      "weighted avg       1.00      1.00      1.00     10210\n",
      "\n",
      "--------------------------------------------------\n",
      "Results for XGBoost:\n",
      "Precision: 1.0\n",
      "Recall: 1.0\n",
      "F1-Score: 1.0\n",
      "ROC-AUC: 1.0\n",
      "Classification Report:\n",
      "               precision    recall  f1-score   support\n",
      "\n",
      "           0       1.00      1.00      1.00      7308\n",
      "           1       1.00      1.00      1.00      2902\n",
      "\n",
      "    accuracy                           1.00     10210\n",
      "   macro avg       1.00      1.00      1.00     10210\n",
      "weighted avg       1.00      1.00      1.00     10210\n",
      "\n",
      "--------------------------------------------------\n"
     ]
    }
   ],
   "source": [
    "import pandas as pd\n",
    "from sklearn.metrics import precision_score, recall_score, f1_score, roc_auc_score, classification_report\n",
    "\n",
    "# Assuming models dictionary and train/test data are defined elsewhere\n",
    "results = {}\n",
    "for name, model in models.items():\n",
    "    # Training the model\n",
    "    model.fit(X_train, y_train)\n",
    "\n",
    "    # Predictions\n",
    "    y_pred = model.predict(X_test)\n",
    "    y_proba = model.predict_proba(X_test)[:, 1] if hasattr(model, \"predict_proba\") else model.decision_function(X_test)\n",
    "    \n",
    "    # Evaluation Metrics\n",
    "    precision = precision_score(y_test, y_pred)\n",
    "    recall = recall_score(y_test, y_pred)\n",
    "    f1score = f1_score(y_test, y_pred)\n",
    "    roc_auc = roc_auc_score(y_test, y_proba)\n",
    "    \n",
    "    # Store results by metric, adding the model name as a sub-key\n",
    "    results.setdefault('Precision', {})[name] = precision\n",
    "    results.setdefault('Recall', {})[name] = recall\n",
    "    results.setdefault('F1-Score', {})[name] = f1score\n",
    "    results.setdefault('ROC-AUC', {})[name] = roc_auc\n",
    "    \n",
    "    print(f\"Results for {name}:\")\n",
    "    print(\"Precision:\", precision)\n",
    "    print(\"Recall:\", recall)\n",
    "    print(\"F1-Score:\", f1score)\n",
    "    print(\"ROC-AUC:\", roc_auc)\n",
    "    print(\"Classification Report:\\n\", classification_report(y_test, y_pred))\n",
    "    print(\"-\" * 50)\n",
    "\n",
    "# Convert the nested dictionary to a DataFrame\n",
    "df_results = pd.DataFrame(results)\n",
    "\n",
    "# Optionally, set the DataFrame index name to 'Evaluation Metric' before saving it to CSV\n",
    "df_results.index.name = 'Evaluation Metric'\n",
    "\n",
    "# Save the DataFrame to CSV\n",
    "df_results.to_csv('All_results_with_Advanced_feature_engineering.csv')\n"
   ]
  },
  {
   "cell_type": "code",
   "execution_count": 16,
   "id": "05278f34",
   "metadata": {},
   "outputs": [],
   "source": [
    "import pandas as pd\n",
    "import numpy as np\n",
    "from sklearn.model_selection import cross_validate\n",
    "from sklearn.metrics import precision_score, recall_score, f1_score, accuracy_score, roc_auc_score"
   ]
  },
  {
   "cell_type": "code",
   "execution_count": 17,
   "id": "a11bfade",
   "metadata": {},
   "outputs": [],
   "source": [
    "# Create an empty DataFrame to store the results\n",
    "cv_results_df = pd.DataFrame(columns=['Model', 'Precision', 'Recall', 'F1-Score', 'ROC-AUC', 'Accuracy'])"
   ]
  },
  {
   "cell_type": "code",
   "execution_count": 18,
   "id": "9194f9d4",
   "metadata": {},
   "outputs": [
    {
     "name": "stderr",
     "output_type": "stream",
     "text": [
      "C:\\Users\\user\\AppData\\Local\\Temp\\ipykernel_9568\\3325782152.py:18: FutureWarning: The frame.append method is deprecated and will be removed from pandas in a future version. Use pandas.concat instead.\n",
      "  cv_results_df = cv_results_df.append(results, ignore_index=True)\n",
      "C:\\Users\\user\\AppData\\Local\\Temp\\ipykernel_9568\\3325782152.py:18: FutureWarning: The frame.append method is deprecated and will be removed from pandas in a future version. Use pandas.concat instead.\n",
      "  cv_results_df = cv_results_df.append(results, ignore_index=True)\n",
      "C:\\Users\\user\\anaconda3\\lib\\site-packages\\sklearn\\linear_model\\_logistic.py:458: ConvergenceWarning: lbfgs failed to converge (status=1):\n",
      "STOP: TOTAL NO. of ITERATIONS REACHED LIMIT.\n",
      "\n",
      "Increase the number of iterations (max_iter) or scale the data as shown in:\n",
      "    https://scikit-learn.org/stable/modules/preprocessing.html\n",
      "Please also refer to the documentation for alternative solver options:\n",
      "    https://scikit-learn.org/stable/modules/linear_model.html#logistic-regression\n",
      "  n_iter_i = _check_optimize_result(\n",
      "C:\\Users\\user\\anaconda3\\lib\\site-packages\\sklearn\\linear_model\\_logistic.py:458: ConvergenceWarning: lbfgs failed to converge (status=1):\n",
      "STOP: TOTAL NO. of ITERATIONS REACHED LIMIT.\n",
      "\n",
      "Increase the number of iterations (max_iter) or scale the data as shown in:\n",
      "    https://scikit-learn.org/stable/modules/preprocessing.html\n",
      "Please also refer to the documentation for alternative solver options:\n",
      "    https://scikit-learn.org/stable/modules/linear_model.html#logistic-regression\n",
      "  n_iter_i = _check_optimize_result(\n",
      "C:\\Users\\user\\anaconda3\\lib\\site-packages\\sklearn\\linear_model\\_logistic.py:458: ConvergenceWarning: lbfgs failed to converge (status=1):\n",
      "STOP: TOTAL NO. of ITERATIONS REACHED LIMIT.\n",
      "\n",
      "Increase the number of iterations (max_iter) or scale the data as shown in:\n",
      "    https://scikit-learn.org/stable/modules/preprocessing.html\n",
      "Please also refer to the documentation for alternative solver options:\n",
      "    https://scikit-learn.org/stable/modules/linear_model.html#logistic-regression\n",
      "  n_iter_i = _check_optimize_result(\n",
      "C:\\Users\\user\\anaconda3\\lib\\site-packages\\sklearn\\linear_model\\_logistic.py:458: ConvergenceWarning: lbfgs failed to converge (status=1):\n",
      "STOP: TOTAL NO. of ITERATIONS REACHED LIMIT.\n",
      "\n",
      "Increase the number of iterations (max_iter) or scale the data as shown in:\n",
      "    https://scikit-learn.org/stable/modules/preprocessing.html\n",
      "Please also refer to the documentation for alternative solver options:\n",
      "    https://scikit-learn.org/stable/modules/linear_model.html#logistic-regression\n",
      "  n_iter_i = _check_optimize_result(\n",
      "C:\\Users\\user\\anaconda3\\lib\\site-packages\\sklearn\\linear_model\\_logistic.py:458: ConvergenceWarning: lbfgs failed to converge (status=1):\n",
      "STOP: TOTAL NO. of ITERATIONS REACHED LIMIT.\n",
      "\n",
      "Increase the number of iterations (max_iter) or scale the data as shown in:\n",
      "    https://scikit-learn.org/stable/modules/preprocessing.html\n",
      "Please also refer to the documentation for alternative solver options:\n",
      "    https://scikit-learn.org/stable/modules/linear_model.html#logistic-regression\n",
      "  n_iter_i = _check_optimize_result(\n",
      "C:\\Users\\user\\AppData\\Local\\Temp\\ipykernel_9568\\3325782152.py:18: FutureWarning: The frame.append method is deprecated and will be removed from pandas in a future version. Use pandas.concat instead.\n",
      "  cv_results_df = cv_results_df.append(results, ignore_index=True)\n",
      "C:\\Users\\user\\AppData\\Local\\Temp\\ipykernel_9568\\3325782152.py:18: FutureWarning: The frame.append method is deprecated and will be removed from pandas in a future version. Use pandas.concat instead.\n",
      "  cv_results_df = cv_results_df.append(results, ignore_index=True)\n",
      "C:\\Users\\user\\AppData\\Local\\Temp\\ipykernel_9568\\3325782152.py:18: FutureWarning: The frame.append method is deprecated and will be removed from pandas in a future version. Use pandas.concat instead.\n",
      "  cv_results_df = cv_results_df.append(results, ignore_index=True)\n"
     ]
    },
    {
     "name": "stdout",
     "output_type": "stream",
     "text": [
      "                 Model  Precision    Recall  F1-Score   ROC-AUC  Accuracy\n",
      "0        Decision Tree   1.000000  0.999864  0.999932  0.999932  0.999961\n",
      "1        Random Forest   1.000000  1.000000  1.000000  1.000000  1.000000\n",
      "2  Logistic Regression   0.652446  0.253909  0.320671  0.745886  0.757499\n",
      "3    Gradient Boosting   1.000000  1.000000  1.000000  1.000000  1.000000\n",
      "4              XGBoost   1.000000  0.990211  0.994983  0.995105  0.997179\n"
     ]
    }
   ],
   "source": [
    "# Iterate through the models and perform cross-validation\n",
    "for name, model in models.items():\n",
    "    # Perform cross-validation with multiple scoring metrics\n",
    "    cv_scores = cross_validate(model, X, y, cv=5, scoring=['precision', 'recall', 'f1', 'accuracy', 'roc_auc'], \n",
    "                               return_train_score=False)\n",
    "\n",
    "    # Store averaged results\n",
    "    results = {\n",
    "        'Model': name,\n",
    "        'Precision': np.mean(cv_scores['test_precision']),\n",
    "        'Recall': np.mean(cv_scores['test_recall']),\n",
    "        'F1-Score': np.mean(cv_scores['test_f1']),\n",
    "        'ROC-AUC': np.mean(cv_scores['test_roc_auc']),\n",
    "        'Accuracy': np.mean(cv_scores['test_accuracy'])\n",
    "    }\n",
    "    \n",
    "    # Append results to the DataFrame\n",
    "    cv_results_df = cv_results_df.append(results, ignore_index=True)\n",
    "\n",
    "# Display the results in the notebook\n",
    "print(cv_results_df)\n",
    "\n",
    "# Save the results to a CSV file\n",
    "cv_results_df.to_csv('Advanced_Feature_Engineering_Cross_validation_results.csv', index=False)\n",
    "\n",
    "# Save the results to an Excel file\n",
    "cv_results_df.to_excel('Advanced_Feature_Engineering_Cross_validation_results.xlsx', index=False)"
   ]
  },
  {
   "cell_type": "code",
   "execution_count": 20,
   "id": "df13cc8c",
   "metadata": {},
   "outputs": [
    {
     "data": {
      "text/plain": [
       "[<matplotlib.lines.Line2D at 0x1f099871ff0>]"
      ]
     },
     "execution_count": 20,
     "metadata": {},
     "output_type": "execute_result"
    },
    {
     "data": {
      "image/png": "[encoded data removed]",
      "text/plain": [
       "<Figure size 1000x800 with 1 Axes>"
      ]
     },
     "metadata": {},
     "output_type": "display_data"
    }
   ],
   "source": [
    "# Initialize plot\n",
    "plt.figure(figsize=(10, 8))\n",
    "plt.title('Receiver Operating Characteristic (ROC) Curves')\n",
    "plt.xlabel('False Positive Rate')\n",
    "plt.ylabel('True Positive Rate')\n",
    "plt.plot([0, 1], [0, 1], 'r--')"
   ]
  },
  {
   "cell_type": "code",
   "execution_count": 23,
   "id": "a10f7068",
   "metadata": {},
   "outputs": [
    {
     "data": {
      "image/png": "[encoded data removed]",
      "text/plain": [
       "<Figure size 640x480 with 1 Axes>"
      ]
     },
     "metadata": {},
     "output_type": "display_data"
    }
   ],
   "source": [
    "# Train each model and plot their ROC curves\n",
    "from sklearn.metrics import roc_curve, auc\n",
    "\n",
    "for name, model in models.items():\n",
    "    model.fit(X_train, y_train)\n",
    "    if hasattr(model, \"predict_proba\"):  # Check if model supports probability predictions\n",
    "        y_prob = model.predict_proba(X_test)[:, 1]\n",
    "    else:  # Use decision function if predict_proba is not available\n",
    "        y_prob = model.decision_function(X_test)\n",
    "\n",
    "    fpr, tpr, _ = roc_curve(y_test, y_prob)\n",
    "    roc_auc = auc(fpr, tpr)\n",
    "    plt.plot(fpr, tpr, label=f'{name} (area = {roc_auc:.2f})')\n",
    "plt.xlabel('False Positive Rate')\n",
    "plt.ylabel('True Positive Rate')\n",
    "plt.legend(loc='lower right')\n",
    "plt.show()"
   ]
  },
  {
   "cell_type": "code",
   "execution_count": 24,
   "id": "37d97075",
   "metadata": {},
   "outputs": [
    {
     "name": "stdout",
     "output_type": "stream",
     "text": [
      "                     Precision  Recall  F1-Score  ROC-AUC\n",
      "Evaluation Metric                                        \n",
      "Decision Tree              1.0     1.0       1.0      1.0\n",
      "Random Forest              1.0     1.0       1.0      1.0\n",
      "Logistic Regression        1.0     1.0       1.0      1.0\n",
      "Gradient Boosting          1.0     1.0       1.0      1.0\n",
      "XGBoost                    1.0     1.0       1.0      1.0\n"
     ]
    }
   ],
   "source": [
    "print(df_results)"
   ]
  },
  {
   "cell_type": "code",
   "execution_count": null,
   "id": "b164d634",
   "metadata": {},
   "outputs": [],
   "source": []
  }
 ],
 "metadata": {
  "kernelspec": {
   "display_name": "Python 3 (ipykernel)",
   "language": "python",
   "name": "python3"
  },
  "language_info": {
   "codemirror_mode": {
    "name": "ipython",
    "version": 3
   },
   "file_extension": ".py",
   "mimetype": "text/x-python",
   "name": "python",
   "nbconvert_exporter": "python",
   "pygments_lexer": "ipython3",
   "version": "3.10.9"
  }
 },
 "nbformat": 4,
 "nbformat_minor": 5
}
